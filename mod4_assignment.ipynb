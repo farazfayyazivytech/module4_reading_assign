{
 "cells": [
  {
   "cell_type": "code",
   "execution_count": 2,
   "id": "7692e77a-1474-470d-a0dd-ab2bafa0a057",
   "metadata": {},
   "outputs": [
    {
     "name": "stdout",
     "output_type": "stream",
     "text": [
      "Open 9-5 daily\n"
     ]
    }
   ],
   "source": [
    "# 11.1\n",
    "import zoo\n",
    "\n",
    "zoo.hours()"
   ]
  },
  {
   "cell_type": "code",
   "execution_count": 6,
   "id": "5dd2011a-30da-4bb3-a785-066c07ed2ca8",
   "metadata": {},
   "outputs": [
    {
     "name": "stdout",
     "output_type": "stream",
     "text": [
      "Open 9-5 daily\n"
     ]
    }
   ],
   "source": [
    "# 11.2\n",
    "import zoo as menagerie\n",
    "\n",
    "menagerie.hours()"
   ]
  },
  {
   "cell_type": "code",
   "execution_count": 1,
   "id": "11c936c8-658c-4759-b4b0-86240ee1a335",
   "metadata": {},
   "outputs": [
    {
     "ename": "AttributeError",
     "evalue": "'Engine' object has no attribute 'execute'",
     "output_type": "error",
     "traceback": [
      "\u001b[1;31m---------------------------------------------------------------------------\u001b[0m",
      "\u001b[1;31mAttributeError\u001b[0m                            Traceback (most recent call last)",
      "Cell \u001b[1;32mIn[1], line 27\u001b[0m\n\u001b[0;32m      5\u001b[0m \u001b[38;5;66;03m# import sqlite3\u001b[39;00m\n\u001b[0;32m      6\u001b[0m \u001b[38;5;66;03m# books_db = sqlite3.connect('books.db')\u001b[39;00m\n\u001b[0;32m      7\u001b[0m \u001b[38;5;66;03m# curs = books_db.cursor()\u001b[39;00m\n\u001b[1;32m   (...)\u001b[0m\n\u001b[0;32m     22\u001b[0m \n\u001b[0;32m     23\u001b[0m \u001b[38;5;66;03m# curs.close()\u001b[39;00m\n\u001b[0;32m     25\u001b[0m conn \u001b[38;5;241m=\u001b[39m sa\u001b[38;5;241m.\u001b[39mcreate_engine(\u001b[38;5;124m'\u001b[39m\u001b[38;5;124msqlite:////books.db\u001b[39m\u001b[38;5;124m'\u001b[39m)\n\u001b[1;32m---> 27\u001b[0m rows \u001b[38;5;241m=\u001b[39m conn\u001b[38;5;241m.\u001b[39mexecute(\u001b[38;5;124m'\u001b[39m\u001b[38;5;124mSELECT title FROM books\u001b[39m\u001b[38;5;124m'\u001b[39m)\n\u001b[0;32m     29\u001b[0m \u001b[38;5;28;01mfor\u001b[39;00m row \u001b[38;5;129;01min\u001b[39;00m rows:\n\u001b[0;32m     30\u001b[0m     \u001b[38;5;28mprint\u001b[39m(row)\n",
      "\u001b[1;31mAttributeError\u001b[0m: 'Engine' object has no attribute 'execute'"
     ]
    }
   ],
   "source": [
    "# 16.8\n",
    "\n",
    "# I attempted the assignment\n",
    "# Required answer to 16.4 to complete\n",
    "# I installed sqlalchemy and kept getting an error from notebook about the method not existing\n",
    "\n",
    "#---------------------------------------------------------------------------------\n",
    "# 16.4 attempt\n",
    "\n",
    "# import sqlite3\n",
    "# books_db = sqlite3.connect('books.db')\n",
    "# curs = books_db.cursor()\n",
    "\n",
    "# curs.execute('''CREATE TABLE books\n",
    "#     (title TEXT,\n",
    "#     author TEXT,\n",
    "#     year INTEGER)''')\n",
    "\n",
    "# ins = 'INSERT INTO books (title, author, year) VALUES(?,?,?)'\n",
    "# curs.execute(ins, ('The Weirdstone of Brisingamen','Alan Garner',1960))\n",
    "# curs.execute(ins, ('Perdido Street Station','China Miéville',2000))\n",
    "# curs.execute(ins, ('Thud!','Terry Pratchett',2005))\n",
    "# curs.execute(ins, ('The Spellman Files','Lisa Lutz',2007))\n",
    "# curs.execute(ins, ('Small Gods','Terry Pratchett',1992))\n",
    "\n",
    "# curs.fetchall()\n",
    "\n",
    "# curs.close()\n",
    "#-----------------------------------------------------------------------------------\n",
    "\n",
    "import sqlalchemy as sa\n",
    "\n",
    "conn = sa.create_engine('sqlite:////books.db')\n",
    "\n",
    "rows = conn.execute('SELECT title FROM books')\n",
    "\n",
    "for row in rows:\n",
    "    print(row)"
   ]
  }
 ],
 "metadata": {
  "kernelspec": {
   "display_name": "Python 3 (ipykernel)",
   "language": "python",
   "name": "python3"
  },
  "language_info": {
   "codemirror_mode": {
    "name": "ipython",
    "version": 3
   },
   "file_extension": ".py",
   "mimetype": "text/x-python",
   "name": "python",
   "nbconvert_exporter": "python",
   "pygments_lexer": "ipython3",
   "version": "3.12.4"
  }
 },
 "nbformat": 4,
 "nbformat_minor": 5
}
