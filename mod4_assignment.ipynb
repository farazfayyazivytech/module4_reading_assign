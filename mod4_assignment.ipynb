{
 "cells": [
  {
   "cell_type": "code",
   "execution_count": 2,
   "id": "7692e77a-1474-470d-a0dd-ab2bafa0a057",
   "metadata": {},
   "outputs": [
    {
     "name": "stdout",
     "output_type": "stream",
     "text": [
      "Open 9-5 daily\n"
     ]
    }
   ],
   "source": [
    "# 11.1\n",
    "import zoo\n",
    "\n",
    "zoo.hours()"
   ]
  },
  {
   "cell_type": "code",
   "execution_count": 6,
   "id": "5dd2011a-30da-4bb3-a785-066c07ed2ca8",
   "metadata": {},
   "outputs": [
    {
     "name": "stdout",
     "output_type": "stream",
     "text": [
      "Open 9-5 daily\n"
     ]
    }
   ],
   "source": [
    "# 11.2\n",
    "import zoo as menagerie\n",
    "\n",
    "menagerie.hours()"
   ]
  },
  {
   "cell_type": "code",
   "execution_count": 37,
   "id": "11c936c8-658c-4759-b4b0-86240ee1a335",
   "metadata": {},
   "outputs": [
    {
     "name": "stdout",
     "output_type": "stream",
     "text": [
      "[]\n"
     ]
    }
   ],
   "source": [
    "# 16.8\n",
    "\n",
    "# I attempted the assignment\n",
    "# Required answer to 16.4 to complete\n",
    "# I installed sqlalchemy and kept getting an error from notebook about the method not existing\n",
    "\n",
    "#---------------------------------------------------------------------------------\n",
    "# 16.4 attempt\n",
    "\n",
    "import sqlite3\n",
    "books_db = sqlite3.connect('books2.db')\n",
    "curs = books_db.cursor()\n",
    "\n",
    "# curs.execute('''CREATE TABLE books\n",
    "#     (title TEXT,\n",
    "#     author TEXT,\n",
    "#     year INTEGER)''')\n",
    "\n",
    "# curs.execute('INSERT INTO books VALUES(\"The Weirdstone of Brisingamen\", \"Alan Garner\", 1960)')\n",
    "# curs.execute('INSERT INTO books VALUES(\"Perdido Street Station\", \"China Miéville\", 2000)')\n",
    "# curs.execute('INSERT INTO books VALUES(\"Thud!\", \"Terry Pratchett\", 2005)')\n",
    "# curs.execute('INSERT INTO books VALUES(\"The Spellman Files\", \"Lisa Lutz\", 2007)')\n",
    "# curs.execute('INSERT INTO books VALUES(\"Small Gods\", \"Terry Pratchett\", 1992)')\n",
    "\n",
    "curs.execute('SELECT title FROM books')\n",
    "\n",
    "rows = curs.fetchall()\n",
    "print(rows)\n",
    "\n",
    "#-----------------------------------------------------------------------------------\n",
    "\n",
    "from sqlalchemy import *\n",
    "\n",
    "engine = create_engine('sqlite:///books2.db')\n",
    "\n",
    "command = 'SELECT title FROM books'\n",
    "\n",
    "with engine.connect() as conn:\n",
    "    result = conn.execute(text(command))\n",
    "    for row in result:\n",
    "        print(row)"
   ]
  }
 ],
 "metadata": {
  "kernelspec": {
   "display_name": "Python 3 (ipykernel)",
   "language": "python",
   "name": "python3"
  },
  "language_info": {
   "codemirror_mode": {
    "name": "ipython",
    "version": 3
   },
   "file_extension": ".py",
   "mimetype": "text/x-python",
   "name": "python",
   "nbconvert_exporter": "python",
   "pygments_lexer": "ipython3",
   "version": "3.12.4"
  }
 },
 "nbformat": 4,
 "nbformat_minor": 5
}
